{
  "nbformat": 4,
  "nbformat_minor": 0,
  "metadata": {
    "kernelspec": {
      "display_name": "Python 3",
      "language": "python",
      "name": "python3"
    },
    "language_info": {
      "codemirror_mode": {
        "name": "ipython",
        "version": 3
      },
      "file_extension": ".py",
      "mimetype": "text/x-python",
      "name": "python",
      "nbconvert_exporter": "python",
      "pygments_lexer": "ipython3",
      "version": "3.7.6"
    },
    "colab": {
      "name": "Copy of App_recommendations.ipynb",
      "provenance": []
    }
  },
  "cells": [
    {
      "cell_type": "markdown",
      "metadata": {
        "id": "Bd-eXorC0NR3"
      },
      "source": [
        "# App dataset with decision trees"
      ]
    },
    {
      "cell_type": "code",
      "metadata": {
        "id": "oWqtHqjZ0XlR",
        "colab": {
          "base_uri": "https://localhost:8080/"
        },
        "outputId": "ad25a0b4-12d0-4935-8d8d-0aa35df89f9e"
      },
      "source": [
        "!git clone https://github.com/s7s/machine_learning_1.git\n",
        "%cd  machine_learning_1/decision_trees"
      ],
      "execution_count": 1,
      "outputs": [
        {
          "output_type": "stream",
          "text": [
            "Cloning into 'machine_learning_1'...\n",
            "remote: Enumerating objects: 130, done.\u001b[K\n",
            "remote: Counting objects: 100% (130/130), done.\u001b[K\n",
            "remote: Compressing objects: 100% (95/95), done.\u001b[K\n",
            "remote: Total 130 (delta 53), reused 109 (delta 32), pack-reused 0\u001b[K\n",
            "Receiving objects: 100% (130/130), 33.40 MiB | 18.57 MiB/s, done.\n",
            "Resolving deltas: 100% (53/53), done.\n",
            "/content/machine_learning_1/decision_trees\n"
          ],
          "name": "stdout"
        }
      ]
    },
    {
      "cell_type": "code",
      "metadata": {
        "id": "hxcEPeC40NR5"
      },
      "source": [
        "import pandas as pd\n",
        "import numpy as np\n",
        "from matplotlib import pyplot as plt\n",
        "import utils\n",
        "\n",
        "from sklearn.tree import DecisionTreeClassifier\n",
        "import random\n",
        "random.seed(0)"
      ],
      "execution_count": 2,
      "outputs": []
    },
    {
      "cell_type": "code",
      "metadata": {
        "id": "tv1VKCkW0NR5",
        "colab": {
          "base_uri": "https://localhost:8080/",
          "height": 234
        },
        "outputId": "24a1a1c2-7ec4-48d8-9d7e-c6562cda5a4b"
      },
      "source": [
        "app_dataset = pd.DataFrame({\n",
        "    'Gender': ['Female','Female','Male','Female','Male','Male'],\n",
        "    'Age': [15, 25, 32, 35, 12, 14],\n",
        "    'App': ['Snapchat', 'SheIn', 'Fantasy PL', 'SheIn', 'Snapchat', 'Snapchat']})\n",
        "app_dataset"
      ],
      "execution_count": 3,
      "outputs": [
        {
          "output_type": "execute_result",
          "data": {
            "text/html": [
              "<div>\n",
              "<style scoped>\n",
              "    .dataframe tbody tr th:only-of-type {\n",
              "        vertical-align: middle;\n",
              "    }\n",
              "\n",
              "    .dataframe tbody tr th {\n",
              "        vertical-align: top;\n",
              "    }\n",
              "\n",
              "    .dataframe thead th {\n",
              "        text-align: right;\n",
              "    }\n",
              "</style>\n",
              "<table border=\"1\" class=\"dataframe\">\n",
              "  <thead>\n",
              "    <tr style=\"text-align: right;\">\n",
              "      <th></th>\n",
              "      <th>Gender</th>\n",
              "      <th>Age</th>\n",
              "      <th>App</th>\n",
              "    </tr>\n",
              "  </thead>\n",
              "  <tbody>\n",
              "    <tr>\n",
              "      <th>0</th>\n",
              "      <td>Female</td>\n",
              "      <td>15</td>\n",
              "      <td>Snapchat</td>\n",
              "    </tr>\n",
              "    <tr>\n",
              "      <th>1</th>\n",
              "      <td>Female</td>\n",
              "      <td>25</td>\n",
              "      <td>SheIn</td>\n",
              "    </tr>\n",
              "    <tr>\n",
              "      <th>2</th>\n",
              "      <td>Male</td>\n",
              "      <td>32</td>\n",
              "      <td>Fantasy PL</td>\n",
              "    </tr>\n",
              "    <tr>\n",
              "      <th>3</th>\n",
              "      <td>Female</td>\n",
              "      <td>35</td>\n",
              "      <td>SheIn</td>\n",
              "    </tr>\n",
              "    <tr>\n",
              "      <th>4</th>\n",
              "      <td>Male</td>\n",
              "      <td>12</td>\n",
              "      <td>Snapchat</td>\n",
              "    </tr>\n",
              "    <tr>\n",
              "      <th>5</th>\n",
              "      <td>Male</td>\n",
              "      <td>14</td>\n",
              "      <td>Snapchat</td>\n",
              "    </tr>\n",
              "  </tbody>\n",
              "</table>\n",
              "</div>"
            ],
            "text/plain": [
              "   Gender  Age         App\n",
              "0  Female   15    Snapchat\n",
              "1  Female   25       SheIn\n",
              "2    Male   32  Fantasy PL\n",
              "3  Female   35       SheIn\n",
              "4    Male   12    Snapchat\n",
              "5    Male   14    Snapchat"
            ]
          },
          "metadata": {
            "tags": []
          },
          "execution_count": 3
        }
      ]
    },
    {
      "cell_type": "markdown",
      "metadata": {
        "id": "IZ4zKFD90NR6"
      },
      "source": [
        "# With age as a categorical feature"
      ]
    },
    {
      "cell_type": "code",
      "metadata": {
        "id": "SbxCXI4-0NR7",
        "colab": {
          "base_uri": "https://localhost:8080/",
          "height": 234
        },
        "outputId": "ce80dd71-a263-4227-c988-89cb320b3e1c"
      },
      "source": [
        "app_dataset_one_hot = pd.DataFrame(\n",
        "    {'Gender_Female':[1,1,0,1,0,0],\n",
        "     'Gender_Male':[0,0,1,0,1,1],\n",
        "     'Age_Young':[1,0,0,0,1,1],\n",
        "     'Age_Old':[0,1,1,1,0,0],\n",
        "     'App_Snapchat':[1,0,0,0,1,1],\n",
        "     'App_Fantasy_PL':[0,0,1,0,0,0],\n",
        "     'App_SheIn':[0,1,0,1,0,0]})\n",
        "app_dataset_one_hot"
      ],
      "execution_count": 4,
      "outputs": [
        {
          "output_type": "execute_result",
          "data": {
            "text/html": [
              "<div>\n",
              "<style scoped>\n",
              "    .dataframe tbody tr th:only-of-type {\n",
              "        vertical-align: middle;\n",
              "    }\n",
              "\n",
              "    .dataframe tbody tr th {\n",
              "        vertical-align: top;\n",
              "    }\n",
              "\n",
              "    .dataframe thead th {\n",
              "        text-align: right;\n",
              "    }\n",
              "</style>\n",
              "<table border=\"1\" class=\"dataframe\">\n",
              "  <thead>\n",
              "    <tr style=\"text-align: right;\">\n",
              "      <th></th>\n",
              "      <th>Gender_Female</th>\n",
              "      <th>Gender_Male</th>\n",
              "      <th>Age_Young</th>\n",
              "      <th>Age_Old</th>\n",
              "      <th>App_Snapchat</th>\n",
              "      <th>App_Fantasy_PL</th>\n",
              "      <th>App_SheIn</th>\n",
              "    </tr>\n",
              "  </thead>\n",
              "  <tbody>\n",
              "    <tr>\n",
              "      <th>0</th>\n",
              "      <td>1</td>\n",
              "      <td>0</td>\n",
              "      <td>1</td>\n",
              "      <td>0</td>\n",
              "      <td>1</td>\n",
              "      <td>0</td>\n",
              "      <td>0</td>\n",
              "    </tr>\n",
              "    <tr>\n",
              "      <th>1</th>\n",
              "      <td>1</td>\n",
              "      <td>0</td>\n",
              "      <td>0</td>\n",
              "      <td>1</td>\n",
              "      <td>0</td>\n",
              "      <td>0</td>\n",
              "      <td>1</td>\n",
              "    </tr>\n",
              "    <tr>\n",
              "      <th>2</th>\n",
              "      <td>0</td>\n",
              "      <td>1</td>\n",
              "      <td>0</td>\n",
              "      <td>1</td>\n",
              "      <td>0</td>\n",
              "      <td>1</td>\n",
              "      <td>0</td>\n",
              "    </tr>\n",
              "    <tr>\n",
              "      <th>3</th>\n",
              "      <td>1</td>\n",
              "      <td>0</td>\n",
              "      <td>0</td>\n",
              "      <td>1</td>\n",
              "      <td>0</td>\n",
              "      <td>0</td>\n",
              "      <td>1</td>\n",
              "    </tr>\n",
              "    <tr>\n",
              "      <th>4</th>\n",
              "      <td>0</td>\n",
              "      <td>1</td>\n",
              "      <td>1</td>\n",
              "      <td>0</td>\n",
              "      <td>1</td>\n",
              "      <td>0</td>\n",
              "      <td>0</td>\n",
              "    </tr>\n",
              "    <tr>\n",
              "      <th>5</th>\n",
              "      <td>0</td>\n",
              "      <td>1</td>\n",
              "      <td>1</td>\n",
              "      <td>0</td>\n",
              "      <td>1</td>\n",
              "      <td>0</td>\n",
              "      <td>0</td>\n",
              "    </tr>\n",
              "  </tbody>\n",
              "</table>\n",
              "</div>"
            ],
            "text/plain": [
              "   Gender_Female  Gender_Male  ...  App_Fantasy_PL  App_SheIn\n",
              "0              1            0  ...               0          0\n",
              "1              1            0  ...               0          1\n",
              "2              0            1  ...               1          0\n",
              "3              1            0  ...               0          1\n",
              "4              0            1  ...               0          0\n",
              "5              0            1  ...               0          0\n",
              "\n",
              "[6 rows x 7 columns]"
            ]
          },
          "metadata": {
            "tags": []
          },
          "execution_count": 4
        }
      ]
    },
    {
      "cell_type": "code",
      "metadata": {
        "id": "u12U7akf0NR7"
      },
      "source": [
        "X = app_dataset_one_hot[['Gender_Female','Gender_Male','Age_Old','Age_Young']]\n",
        "y = app_dataset_one_hot[['App_Snapchat','App_Fantasy_PL','App_SheIn']]"
      ],
      "execution_count": 5,
      "outputs": []
    },
    {
      "cell_type": "code",
      "metadata": {
        "id": "avHTGAkZ0NR7",
        "colab": {
          "base_uri": "https://localhost:8080/"
        },
        "outputId": "42a75d77-70d4-4180-f758-3164cb5d5fb5"
      },
      "source": [
        "from sklearn.tree import DecisionTreeClassifier\n",
        "dt = DecisionTreeClassifier()\n",
        "dt.fit(X,y)\n",
        "dt.score(X,y)"
      ],
      "execution_count": 8,
      "outputs": [
        {
          "output_type": "execute_result",
          "data": {
            "text/plain": [
              "1.0"
            ]
          },
          "metadata": {
            "tags": []
          },
          "execution_count": 8
        }
      ]
    },
    {
      "cell_type": "code",
      "metadata": {
        "id": "2CH7y14L0NR8",
        "colab": {
          "base_uri": "https://localhost:8080/",
          "height": 534
        },
        "outputId": "803b2701-ffa2-4d60-ad16-fbe7ab837a30"
      },
      "source": [
        "utils.display_tree(dt)"
      ],
      "execution_count": 9,
      "outputs": [
        {
          "output_type": "stream",
          "text": [
            "/usr/local/lib/python3.7/dist-packages/sklearn/externals/six.py:31: FutureWarning: The module is deprecated in version 0.21 and will be removed in version 0.23 since we've dropped support for Python 2.7. Please rely on the official version of six (https://pypi.org/project/six/).\n",
            "  \"(https://pypi.org/project/six/).\", FutureWarning)\n"
          ],
          "name": "stderr"
        },
        {
          "output_type": "execute_result",
          "data": {
            "image/png": "[encoded data removed]",
            "text/plain": [
              "<IPython.core.display.Image object>"
            ]
          },
          "metadata": {
            "tags": []
          },
          "execution_count": 9
        }
      ]
    },
    {
      "cell_type": "markdown",
      "metadata": {
        "id": "ppI1Hf7t0NR8"
      },
      "source": [
        "# With age as a numerical feature"
      ]
    },
    {
      "cell_type": "code",
      "metadata": {
        "id": "kmS-YNBJ0NR8",
        "colab": {
          "base_uri": "https://localhost:8080/"
        },
        "outputId": "c0b8900e-eeaf-4db9-d83f-08376906ff98"
      },
      "source": [
        "app_dataset = pd.DataFrame({\n",
        "    'Gender_Female':[1,1,0,1,0,0],\n",
        "    'Gender_Male':[0,0,1,0,1,1],\n",
        "    'Age': [15, 25, 32, 35, 12, 14],\n",
        "    'App': ['Snapchat', 'SheIn', 'Fantasy PL', 'SheIn', 'Snapchat', 'Snapchat']})\n",
        "print(app_dataset)"
      ],
      "execution_count": 11,
      "outputs": [
        {
          "output_type": "stream",
          "text": [
            "   Gender_Female  Gender_Male  Age         App\n",
            "0              1            0   15    Snapchat\n",
            "1              1            0   25       SheIn\n",
            "2              0            1   32  Fantasy PL\n",
            "3              1            0   35       SheIn\n",
            "4              0            1   12    Snapchat\n",
            "5              0            1   14    Snapchat\n"
          ],
          "name": "stdout"
        }
      ]
    },
    {
      "cell_type": "code",
      "metadata": {
        "id": "KVYVNYDE0NR9",
        "colab": {
          "base_uri": "https://localhost:8080/"
        },
        "outputId": "ce31ca69-9590-4c9b-dbfb-ceaa25abb987"
      },
      "source": [
        "features = app_dataset[['Age','Gender_Female','Gender_Male']]\n",
        "print(features)"
      ],
      "execution_count": 12,
      "outputs": [
        {
          "output_type": "stream",
          "text": [
            "   Age  Gender_Female  Gender_Male\n",
            "0   15              1            0\n",
            "1   25              1            0\n",
            "2   32              0            1\n",
            "3   35              1            0\n",
            "4   12              0            1\n",
            "5   14              0            1\n"
          ],
          "name": "stdout"
        }
      ]
    },
    {
      "cell_type": "code",
      "metadata": {
        "id": "rXnUqLqV0NR9",
        "colab": {
          "base_uri": "https://localhost:8080/"
        },
        "outputId": "316d0cdb-8942-4f48-f7d3-bf459f804d8e"
      },
      "source": [
        "labels = app_dataset['App']\n",
        "print(labels)"
      ],
      "execution_count": 13,
      "outputs": [
        {
          "output_type": "stream",
          "text": [
            "0      Snapchat\n",
            "1         SheIn\n",
            "2    Fantasy PL\n",
            "3         SheIn\n",
            "4      Snapchat\n",
            "5      Snapchat\n",
            "Name: App, dtype: object\n"
          ],
          "name": "stdout"
        }
      ]
    },
    {
      "cell_type": "code",
      "metadata": {
        "id": "JxQErMLZ0NR9",
        "colab": {
          "base_uri": "https://localhost:8080/"
        },
        "outputId": "46d497f8-b334-4cdb-d626-153f2673adcc"
      },
      "source": [
        "app_model = DecisionTreeClassifier()\n",
        "app_model.fit(features, labels)\n",
        "app_model.score(features, labels)"
      ],
      "execution_count": 14,
      "outputs": [
        {
          "output_type": "execute_result",
          "data": {
            "text/plain": [
              "1.0"
            ]
          },
          "metadata": {
            "tags": []
          },
          "execution_count": 14
        }
      ]
    },
    {
      "cell_type": "code",
      "metadata": {
        "id": "qFWugGEws2Ba",
        "colab": {
          "base_uri": "https://localhost:8080/"
        },
        "outputId": "ea851e74-938d-456c-9f4e-1e9cb9634ebd"
      },
      "source": [
        "# predict\n",
        "# A girl aged 13\n",
        "print(app_model.predict([[13,1,0]]))\n",
        "# A woman aged 28\n",
        "print(app_model.predict([[28,1,0]]))\n",
        "# A man aged 34\n",
        "print(app_model.predict([[34,0,1]]))"
      ],
      "execution_count": 16,
      "outputs": [
        {
          "output_type": "stream",
          "text": [
            "['Snapchat']\n",
            "['SheIn']\n",
            "['Fantasy PL']\n"
          ],
          "name": "stdout"
        }
      ]
    },
    {
      "cell_type": "code",
      "metadata": {
        "id": "EM9kw1s-0NR-",
        "colab": {
          "base_uri": "https://localhost:8080/",
          "height": 365
        },
        "outputId": "6c916bec-4ad9-48d8-8d04-7bcebd0d6028"
      },
      "source": [
        "utils.display_tree(app_model)"
      ],
      "execution_count": 17,
      "outputs": [
        {
          "output_type": "execute_result",
          "data": {
            "image/png": "[encoded data removed]",
            "text/plain": [
              "<IPython.core.display.Image object>"
            ]
          },
          "metadata": {
            "tags": []
          },
          "execution_count": 17
        }
      ]
    },
    {
      "cell_type": "code",
      "metadata": {
        "id": "Cb8J_HbI0NR-"
      },
      "source": [
        ""
      ],
      "execution_count": null,
      "outputs": []
    }
  ]
}