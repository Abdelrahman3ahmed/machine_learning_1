{
  "nbformat": 4,
  "nbformat_minor": 0,
  "metadata": {
    "kernelspec": {
      "display_name": "Python 3",
      "language": "python",
      "name": "python3"
    },
    "language_info": {
      "codemirror_mode": {
        "name": "ipython",
        "version": 3
      },
      "file_extension": ".py",
      "mimetype": "text/x-python",
      "name": "python",
      "nbconvert_exporter": "python",
      "pygments_lexer": "ipython3",
      "version": "3.7.6"
    },
    "colab": {
      "name": "classification_model_performance.ipynb",
      "provenance": [],
      "collapsed_sections": []
    }
  },
  "cells": [
    {
      "cell_type": "markdown",
      "metadata": {
        "id": "k1xx5Hnnt5QZ"
      },
      "source": [
        "# Classification Model Performance"
      ]
    },
    {
      "cell_type": "code",
      "metadata": {
        "id": "G1mGRqfat9Me",
        "colab": {
          "base_uri": "https://localhost:8080/"
        },
        "outputId": "a40d0d21-6acf-47ed-da72-bbf451ef0cbc"
      },
      "source": [
        "!git clone https://github.com/s7s/machine_learning_1.git\n",
        "%cd  machine_learning_1/classification_model_performance"
      ],
      "execution_count": null,
      "outputs": [
        {
          "output_type": "stream",
          "text": [
            "Cloning into 'manning'...\n",
            "remote: Enumerating objects: 864, done.\u001b[K\n",
            "remote: Counting objects: 100% (671/671), done.\u001b[K\n",
            "remote: Compressing objects: 100% (457/457), done.\u001b[K\n",
            "remote: Total 864 (delta 368), reused 476 (delta 191), pack-reused 193\u001b[K\n",
            "Receiving objects: 100% (864/864), 53.26 MiB | 21.77 MiB/s, done.\n",
            "Resolving deltas: 100% (435/435), done.\n",
            "/content/manning/Chapter_13_End_to_end_example\n"
          ],
          "name": "stdout"
        }
      ]
    },
    {
      "cell_type": "code",
      "metadata": {
        "id": "yMucOMUDt5Qb"
      },
      "source": [
        "import pandas\n",
        "import matplotlib.pyplot as plt"
      ],
      "execution_count": null,
      "outputs": []
    },
    {
      "cell_type": "markdown",
      "metadata": {
        "id": "bQ2NIzSQt5Qc"
      },
      "source": [
        "## Loading dataset\n",
        "\n",
        "First, we use pandas to load the dataset from a csv file."
      ]
    },
    {
      "cell_type": "code",
      "metadata": {
        "id": "Ejz9_M2pt5Qr",
        "outputId": "fddcc464-b7a8-4c4c-db5d-5c668cb7d72f"
      },
      "source": [
        "data = pandas.read_csv('./preprocessed_titanic_data.csv')\n",
        "data.head()"
      ],
      "execution_count": null,
      "outputs": [
        {
          "output_type": "execute_result",
          "data": {
            "text/html": [
              "<div>\n",
              "<style scoped>\n",
              "    .dataframe tbody tr th:only-of-type {\n",
              "        vertical-align: middle;\n",
              "    }\n",
              "\n",
              "    .dataframe tbody tr th {\n",
              "        vertical-align: top;\n",
              "    }\n",
              "\n",
              "    .dataframe thead th {\n",
              "        text-align: right;\n",
              "    }\n",
              "</style>\n",
              "<table border=\"1\" class=\"dataframe\">\n",
              "  <thead>\n",
              "    <tr style=\"text-align: right;\">\n",
              "      <th></th>\n",
              "      <th>Survived</th>\n",
              "      <th>SibSp</th>\n",
              "      <th>Parch</th>\n",
              "      <th>Fare</th>\n",
              "      <th>Sex_female</th>\n",
              "      <th>Sex_male</th>\n",
              "      <th>Pclass_C</th>\n",
              "      <th>Pclass_Q</th>\n",
              "      <th>Pclass_S</th>\n",
              "      <th>Pclass_U</th>\n",
              "      <th>...</th>\n",
              "      <th>Pclass_2</th>\n",
              "      <th>Pclass_3</th>\n",
              "      <th>Categorized_age_(0, 10]</th>\n",
              "      <th>Categorized_age_(10, 20]</th>\n",
              "      <th>Categorized_age_(20, 30]</th>\n",
              "      <th>Categorized_age_(30, 40]</th>\n",
              "      <th>Categorized_age_(40, 50]</th>\n",
              "      <th>Categorized_age_(50, 60]</th>\n",
              "      <th>Categorized_age_(60, 70]</th>\n",
              "      <th>Categorized_age_(70, 80]</th>\n",
              "    </tr>\n",
              "  </thead>\n",
              "  <tbody>\n",
              "    <tr>\n",
              "      <th>0</th>\n",
              "      <td>0</td>\n",
              "      <td>1</td>\n",
              "      <td>0</td>\n",
              "      <td>7.2500</td>\n",
              "      <td>0</td>\n",
              "      <td>1</td>\n",
              "      <td>0</td>\n",
              "      <td>0</td>\n",
              "      <td>1</td>\n",
              "      <td>0</td>\n",
              "      <td>...</td>\n",
              "      <td>0</td>\n",
              "      <td>1</td>\n",
              "      <td>0</td>\n",
              "      <td>0</td>\n",
              "      <td>1</td>\n",
              "      <td>0</td>\n",
              "      <td>0</td>\n",
              "      <td>0</td>\n",
              "      <td>0</td>\n",
              "      <td>0</td>\n",
              "    </tr>\n",
              "    <tr>\n",
              "      <th>1</th>\n",
              "      <td>1</td>\n",
              "      <td>1</td>\n",
              "      <td>0</td>\n",
              "      <td>71.2833</td>\n",
              "      <td>1</td>\n",
              "      <td>0</td>\n",
              "      <td>1</td>\n",
              "      <td>0</td>\n",
              "      <td>0</td>\n",
              "      <td>0</td>\n",
              "      <td>...</td>\n",
              "      <td>0</td>\n",
              "      <td>0</td>\n",
              "      <td>0</td>\n",
              "      <td>0</td>\n",
              "      <td>0</td>\n",
              "      <td>1</td>\n",
              "      <td>0</td>\n",
              "      <td>0</td>\n",
              "      <td>0</td>\n",
              "      <td>0</td>\n",
              "    </tr>\n",
              "    <tr>\n",
              "      <th>2</th>\n",
              "      <td>1</td>\n",
              "      <td>0</td>\n",
              "      <td>0</td>\n",
              "      <td>7.9250</td>\n",
              "      <td>1</td>\n",
              "      <td>0</td>\n",
              "      <td>0</td>\n",
              "      <td>0</td>\n",
              "      <td>1</td>\n",
              "      <td>0</td>\n",
              "      <td>...</td>\n",
              "      <td>0</td>\n",
              "      <td>1</td>\n",
              "      <td>0</td>\n",
              "      <td>0</td>\n",
              "      <td>1</td>\n",
              "      <td>0</td>\n",
              "      <td>0</td>\n",
              "      <td>0</td>\n",
              "      <td>0</td>\n",
              "      <td>0</td>\n",
              "    </tr>\n",
              "    <tr>\n",
              "      <th>3</th>\n",
              "      <td>1</td>\n",
              "      <td>1</td>\n",
              "      <td>0</td>\n",
              "      <td>53.1000</td>\n",
              "      <td>1</td>\n",
              "      <td>0</td>\n",
              "      <td>0</td>\n",
              "      <td>0</td>\n",
              "      <td>1</td>\n",
              "      <td>0</td>\n",
              "      <td>...</td>\n",
              "      <td>0</td>\n",
              "      <td>0</td>\n",
              "      <td>0</td>\n",
              "      <td>0</td>\n",
              "      <td>0</td>\n",
              "      <td>1</td>\n",
              "      <td>0</td>\n",
              "      <td>0</td>\n",
              "      <td>0</td>\n",
              "      <td>0</td>\n",
              "    </tr>\n",
              "    <tr>\n",
              "      <th>4</th>\n",
              "      <td>0</td>\n",
              "      <td>0</td>\n",
              "      <td>0</td>\n",
              "      <td>8.0500</td>\n",
              "      <td>0</td>\n",
              "      <td>1</td>\n",
              "      <td>0</td>\n",
              "      <td>0</td>\n",
              "      <td>1</td>\n",
              "      <td>0</td>\n",
              "      <td>...</td>\n",
              "      <td>0</td>\n",
              "      <td>1</td>\n",
              "      <td>0</td>\n",
              "      <td>0</td>\n",
              "      <td>0</td>\n",
              "      <td>1</td>\n",
              "      <td>0</td>\n",
              "      <td>0</td>\n",
              "      <td>0</td>\n",
              "      <td>0</td>\n",
              "    </tr>\n",
              "  </tbody>\n",
              "</table>\n",
              "<p>5 rows × 21 columns</p>\n",
              "</div>"
            ],
            "text/plain": [
              "   Survived  SibSp  Parch     Fare  Sex_female  Sex_male  Pclass_C  Pclass_Q  \\\n",
              "0         0      1      0   7.2500           0         1         0         0   \n",
              "1         1      1      0  71.2833           1         0         1         0   \n",
              "2         1      0      0   7.9250           1         0         0         0   \n",
              "3         1      1      0  53.1000           1         0         0         0   \n",
              "4         0      0      0   8.0500           0         1         0         0   \n",
              "\n",
              "   Pclass_S  Pclass_U  ...  Pclass_2  Pclass_3  Categorized_age_(0, 10]  \\\n",
              "0         1         0  ...         0         1                        0   \n",
              "1         0         0  ...         0         0                        0   \n",
              "2         1         0  ...         0         1                        0   \n",
              "3         1         0  ...         0         0                        0   \n",
              "4         1         0  ...         0         1                        0   \n",
              "\n",
              "   Categorized_age_(10, 20]  Categorized_age_(20, 30]  \\\n",
              "0                         0                         1   \n",
              "1                         0                         0   \n",
              "2                         0                         1   \n",
              "3                         0                         0   \n",
              "4                         0                         0   \n",
              "\n",
              "   Categorized_age_(30, 40]  Categorized_age_(40, 50]  \\\n",
              "0                         0                         0   \n",
              "1                         1                         0   \n",
              "2                         0                         0   \n",
              "3                         1                         0   \n",
              "4                         1                         0   \n",
              "\n",
              "   Categorized_age_(50, 60]  Categorized_age_(60, 70]  \\\n",
              "0                         0                         0   \n",
              "1                         0                         0   \n",
              "2                         0                         0   \n",
              "3                         0                         0   \n",
              "4                         0                         0   \n",
              "\n",
              "   Categorized_age_(70, 80]  \n",
              "0                         0  \n",
              "1                         0  \n",
              "2                         0  \n",
              "3                         0  \n",
              "4                         0  \n",
              "\n",
              "[5 rows x 21 columns]"
            ]
          },
          "metadata": {
            "tags": []
          },
          "execution_count": 36
        }
      ]
    },
    {
      "cell_type": "markdown",
      "metadata": {
        "id": "nUwjAMGit5Qs"
      },
      "source": [
        "### Features-labels split and train-validation split"
      ]
    },
    {
      "cell_type": "code",
      "metadata": {
        "id": "Dwr-qv1Nt5Qs"
      },
      "source": [
        "features = data.drop([\"Survived\"], axis=1)\n",
        "labels = data[\"Survived\"]"
      ],
      "execution_count": null,
      "outputs": []
    },
    {
      "cell_type": "code",
      "metadata": {
        "id": "iHa8SswXt5Qs"
      },
      "source": [
        "from sklearn.model_selection import train_test_split"
      ],
      "execution_count": null,
      "outputs": []
    },
    {
      "cell_type": "code",
      "metadata": {
        "id": "TTFZuYFEt5Qs"
      },
      "source": [
        "# remark: we fix random_state the end, to make sure we always get the same split\n",
        "features_train, features_validation_test, labels_train, labels_validation_test = train_test_split(\n",
        "    features, labels, test_size=0.4, random_state=100)"
      ],
      "execution_count": null,
      "outputs": []
    },
    {
      "cell_type": "code",
      "metadata": {
        "id": "Rzkz8cBQt5Qt"
      },
      "source": [
        "features_validation, features_test, labels_validation, labels_test = train_test_split(\n",
        "    features_validation_test, labels_validation_test, test_size=0.5, random_state=100)"
      ],
      "execution_count": null,
      "outputs": []
    },
    {
      "cell_type": "code",
      "metadata": {
        "id": "2d6-n0b0t5Qt",
        "outputId": "e043d7b2-5f12-4ff8-d426-825d608b4777"
      },
      "source": [
        "print(len(features_train))\n",
        "print(len(features_validation))\n",
        "print(len(features_test))\n",
        "print(len(labels_train))\n",
        "print(len(labels_validation))\n",
        "print(len(labels_test))"
      ],
      "execution_count": null,
      "outputs": [
        {
          "output_type": "stream",
          "text": [
            "534\n",
            "178\n",
            "179\n",
            "534\n",
            "178\n",
            "179\n"
          ],
          "name": "stdout"
        }
      ]
    },
    {
      "cell_type": "markdown",
      "metadata": {
        "id": "gofLaM4Qt5Qt"
      },
      "source": [
        "### Training model on our dataset\n"
      ]
    },
    {
      "cell_type": "code",
      "metadata": {
        "id": "1O0OyklPt5Qt",
        "outputId": "20aa00cb-2c8e-4e7f-85f0-0716e459ef1d"
      },
      "source": [
        "from sklearn.linear_model import LogisticRegression\n",
        "\n",
        "lr_model = LogisticRegression()\n",
        "lr_model.fit(features_train, labels_train)"
      ],
      "execution_count": null,
      "outputs": [
        {
          "output_type": "stream",
          "text": [
            "/Users/luisserrano/anaconda3/lib/python3.7/site-packages/sklearn/linear_model/_logistic.py:940: ConvergenceWarning: lbfgs failed to converge (status=1):\n",
            "STOP: TOTAL NO. of ITERATIONS REACHED LIMIT.\n",
            "\n",
            "Increase the number of iterations (max_iter) or scale the data as shown in:\n",
            "    https://scikit-learn.org/stable/modules/preprocessing.html\n",
            "Please also refer to the documentation for alternative solver options:\n",
            "    https://scikit-learn.org/stable/modules/linear_model.html#logistic-regression\n",
            "  extra_warning_msg=_LOGISTIC_SOLVER_CONVERGENCE_MSG)\n"
          ],
          "name": "stderr"
        },
        {
          "output_type": "execute_result",
          "data": {
            "text/plain": [
              "LogisticRegression(C=1.0, class_weight=None, dual=False, fit_intercept=True,\n",
              "                   intercept_scaling=1, l1_ratio=None, max_iter=100,\n",
              "                   multi_class='auto', n_jobs=None, penalty='l2',\n",
              "                   random_state=None, solver='lbfgs', tol=0.0001, verbose=0,\n",
              "                   warm_start=False)"
            ]
          },
          "metadata": {
            "tags": []
          },
          "execution_count": 42
        }
      ]
    },
    {
      "cell_type": "markdown",
      "metadata": {
        "id": "EyCPB2Wdt5Qv"
      },
      "source": [
        "### Model Evaluation\n",
        "\n",
        "#### Accuracy"
      ]
    },
    {
      "cell_type": "code",
      "metadata": {
        "id": "XuMO4p7Ct5Qv",
        "colab": {
          "base_uri": "https://localhost:8080/",
          "height": 195
        },
        "outputId": "0c610767-3618-4245-bf78-510ba42e9b39"
      },
      "source": [
        "print(\"Scores of the model\")\n",
        "print(\"Logistic regression:\", lr_model.score(features_validation, labels_validation))"
      ],
      "execution_count": 1,
      "outputs": [
        {
          "output_type": "stream",
          "text": [
            "Scores of the model\n"
          ],
          "name": "stdout"
        },
        {
          "output_type": "error",
          "ename": "NameError",
          "evalue": "ignored",
          "traceback": [
            "\u001b[0;31m---------------------------------------------------------------------------\u001b[0m",
            "\u001b[0;31mNameError\u001b[0m                                 Traceback (most recent call last)",
            "\u001b[0;32m<ipython-input-1-022384887397>\u001b[0m in \u001b[0;36m<module>\u001b[0;34m()\u001b[0m\n\u001b[1;32m      1\u001b[0m \u001b[0mprint\u001b[0m\u001b[0;34m(\u001b[0m\u001b[0;34m\"Scores of the model\"\u001b[0m\u001b[0;34m)\u001b[0m\u001b[0;34m\u001b[0m\u001b[0;34m\u001b[0m\u001b[0m\n\u001b[0;32m----> 2\u001b[0;31m \u001b[0mprint\u001b[0m\u001b[0;34m(\u001b[0m\u001b[0;34m\"Logistic regression:\"\u001b[0m\u001b[0;34m,\u001b[0m \u001b[0mlr_model\u001b[0m\u001b[0;34m.\u001b[0m\u001b[0mscore\u001b[0m\u001b[0;34m(\u001b[0m\u001b[0mfeatures_validation\u001b[0m\u001b[0;34m,\u001b[0m \u001b[0mlabels_validation\u001b[0m\u001b[0;34m)\u001b[0m\u001b[0;34m)\u001b[0m\u001b[0;34m\u001b[0m\u001b[0;34m\u001b[0m\u001b[0m\n\u001b[0m",
            "\u001b[0;31mNameError\u001b[0m: name 'lr_model' is not defined"
          ]
        }
      ]
    },
    {
      "cell_type": "markdown",
      "metadata": {
        "id": "7F8oCGoyt5Qv"
      },
      "source": [
        "#### F1-score"
      ]
    },
    {
      "cell_type": "code",
      "metadata": {
        "id": "UenvSyPZt5Qw",
        "outputId": "96c4a2ec-1e89-43c2-ed98-dd61892b4729"
      },
      "source": [
        "from sklearn.metrics import f1_score\n",
        "\n",
        "print(\"F1-scores of the model:\")\n",
        "\n",
        "lr_predicted_labels = lr_model.predict(features_validation)\n",
        "print(\"Logistic regression:\", f1_score(labels_validation, lr_predicted_labels))"
      ],
      "execution_count": null,
      "outputs": [
        {
          "output_type": "stream",
          "text": [
            "F1-scores of the models:\n",
            "Logistic regression: 0.6870229007633588\n",
            "Decision Tree: 0.7205882352941176\n",
            "Naive Bayes: 0.6808510638297872\n",
            "Support Vector Machine: 0.39999999999999997\n",
            "Random Forest: 0.7153284671532848\n",
            "Gradient boosting: 0.7384615384615385\n",
            "AdaBoost: 0.6865671641791045\n"
          ],
          "name": "stdout"
        }
      ]
    },
    {
      "cell_type": "markdown",
      "metadata": {
        "id": "A_ua2vRTt5Qw"
      },
      "source": [
        "### Testing the model\n",
        "\n",
        "Finding the accuracy and the F1-score of the model in the testing set."
      ]
    },
    {
      "cell_type": "code",
      "metadata": {
        "id": "2ipcK9k3t5Qw",
        "outputId": "e8372eea-5ea2-477d-e689-97aee50ce781"
      },
      "source": [
        "lr_model.score(features_test, labels_test)"
      ],
      "execution_count": null,
      "outputs": [
        {
          "output_type": "execute_result",
          "data": {
            "text/plain": [
              "0.8324022346368715"
            ]
          },
          "metadata": {
            "tags": []
          },
          "execution_count": 51
        }
      ]
    },
    {
      "cell_type": "code",
      "metadata": {
        "id": "95azlXqgt5Qw",
        "outputId": "75ca88cf-1cdb-41e4-cf23-4fb195e4086c"
      },
      "source": [
        "lr_predicted_test_labels = lr_model.predict(features_test)\n",
        "f1_score(labels_test, lr_predicted_test_labels)"
      ],
      "execution_count": null,
      "outputs": [
        {
          "output_type": "execute_result",
          "data": {
            "text/plain": [
              "0.8026315789473685"
            ]
          },
          "metadata": {
            "tags": []
          },
          "execution_count": 52
        }
      ]
    }
  ]
}